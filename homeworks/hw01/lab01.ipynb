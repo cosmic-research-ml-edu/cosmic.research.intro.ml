{
 "cells": [
  {
   "cell_type": "markdown",
   "metadata": {},
   "source": [
    "# Lab #1 Intro to numpy and Data Analysis\n",
    "\n",
    "This aim of this lab is to get you aquainted to very important python modules (libraries):\n",
    "- numpy\n",
    "- pandas\n",
    "- matplotlib\n",
    "\n",
    "Other modules in this jupyter notebook are **prohibited**, unless it is stated otherwise.\n",
    "\n",
    "#### About tasks\n",
    "\n",
    "This notebook consists of numerous tasks but please make it look like a whole story: a report with your own code, thoughts and conclusions. In some of these tasks you will have to implement some custom functions, in some of them you will be asked to present some plots and describe them. Please try to make your code as short as possible and your answers as clear as possible.\n",
    "\n",
    "#### Evaluation\n",
    "\n",
    "Each task has its value, **15 points** in total. If you use some open-source code please make sure to include the url. \n",
    "\n",
    "#### How to submit\n",
    "- Name your file according to this convention: `lab01_GroupNo_Surname_Name.ipynb`. If you don't have group number, put `nan` instead.\n",
    "- Attach it to an email with topic `lab01_GroupNo_Surname_Name.ipynb`\n",
    "- Send it to `cosmic.research.ml@yandex.ru`"
   ]
  },
  {
   "cell_type": "markdown",
   "metadata": {},
   "source": [
    "## Part 1. Numpy [7 points]\n",
    "\n",
    "In this part you must not use loops (`for`, `while`) and `map` function. For every implemented function provide some usage example (you may use randomly sampled matrices). Pay attention to types of input variables"
   ]
  },
  {
   "cell_type": "code",
   "execution_count": null,
   "metadata": {},
   "outputs": [],
   "source": [
    "import numpy as np"
   ]
  },
  {
   "cell_type": "markdown",
   "metadata": {},
   "source": [
    "**Task 1. [0.5 point]** Implement a function that takes two matrices as input, flattens them and returns a one-dimensional array where elements of these matrices alternate. \n",
    "\n",
    "For example, `(np.array([[1,2,3], [4,5,6]]), np.array([[7,8],[9,10]])) -> [1,7,2,8,3,9,4,10,5,6]`."
   ]
  },
  {
   "cell_type": "code",
   "execution_count": null,
   "metadata": {},
   "outputs": [],
   "source": [
    "def flatten_merge(arr_a, arr_b):\n",
    "    assert isinstance(arr_a, np.ndarray) and isinstance(arr_b, np.ndarray)\n",
    "    # YOUR CODE HERE"
   ]
  },
  {
   "cell_type": "markdown",
   "metadata": {},
   "source": [
    "**Task 2. [0.5 point]** Implement a function to calculate the product of non-zero elements of array. For example, for `np.array([1,2,0,6])` the answer is 12. \n",
    "\n",
    "If there are no non-zero elements, the function must return `nan`."
   ]
  },
  {
   "cell_type": "code",
   "execution_count": null,
   "metadata": {},
   "outputs": [],
   "source": [
    "def product_non_zero(arr):\n",
    "    assert isinstance(arr, np.ndarray)\n",
    "    # YOUR CODE HERE"
   ]
  },
  {
   "cell_type": "markdown",
   "metadata": {},
   "source": [
    "**Task 3. [1 point]** Normalize every column of the input matrix: subtract the mean and divide by the std (avoid division by zero)"
   ]
  },
  {
   "cell_type": "code",
   "execution_count": null,
   "metadata": {},
   "outputs": [],
   "source": [
    "def vertical_scale(arr):\n",
    "    assert isinstance(arr, np.ndarray)\n",
    "    # YOUR CODE HERE"
   ]
  },
  {
   "cell_type": "markdown",
   "metadata": {},
   "source": [
    "**Task 4. [0.5 points]** Implement a function that returns transposed matrix, without changing given."
   ]
  },
  {
   "cell_type": "code",
   "execution_count": null,
   "metadata": {},
   "outputs": [],
   "source": [
    "def safe_transpose(arr):\n",
    "    assert isinstance(arr, np.ndarray)\n",
    "    # YOUR CODE HERE"
   ]
  },
  {
   "cell_type": "markdown",
   "metadata": {},
   "source": [
    "**Task 5. [0.5]** Implement a funtion that returns index of max element in the matrix."
   ]
  },
  {
   "cell_type": "code",
   "execution_count": null,
   "metadata": {},
   "outputs": [],
   "source": [
    "def max_elem_index(arr):\n",
    "    assert isinstance(arr, np.ndarray)\n",
    "    # YOUR CODE HERE"
   ]
  },
  {
   "cell_type": "markdown",
   "metadata": {},
   "source": [
    "**Task 6. [1 points]** Implement a function that will take a matrix and insert a zeros between every column and row. \n",
    "\n",
    "Example: `[[1, 2], [3, 4]] -> [[1, 0, 2], [0, 0, 0], [3, 0, 4]]`"
   ]
  },
  {
   "cell_type": "code",
   "execution_count": null,
   "metadata": {},
   "outputs": [],
   "source": [
    "def insert_zeros(arr):\n",
    "    assert isinstance(arr, np.ndarray)\n",
    "    # YOUR CODE HERE   "
   ]
  },
  {
   "cell_type": "markdown",
   "metadata": {},
   "source": [
    "**Task 7. [0.5 points]** Implement a function that returns those columns of matrix that have count of elements greater than `k` is greater than count of elements smaller than `k`. \n",
    "\n",
    "For example, `([[1,2],[3,4]], 2) -> [[2], [4]]`."
   ]
  },
  {
   "cell_type": "code",
   "execution_count": null,
   "metadata": {},
   "outputs": [],
   "source": [
    "def k_columns(arr, k):\n",
    "    assert isinstance(arr, np.ndarray)\n",
    "    # YOUR CODE HERE "
   ]
  },
  {
   "cell_type": "markdown",
   "metadata": {},
   "source": [
    "**Task 8. [0.5 points]** Implement a function that an integer matrix and an integer as input. It multiplies each element of the matrix by minimal factor that this element becomes divisible by the given number. \n",
    "\n",
    "For example, `([[5, 4, 36, 8]], 12) -> [[60, 12, 36, 24]]`."
   ]
  },
  {
   "cell_type": "code",
   "execution_count": null,
   "metadata": {},
   "outputs": [],
   "source": [
    "def make_divisible(arr, k):\n",
    "    assert isinstance(arr, np.ndarray)\n",
    "    assert isinstance(k, int)\n",
    "    # YOUR CODE HERE"
   ]
  },
  {
   "cell_type": "markdown",
   "metadata": {},
   "source": [
    "**Task 9. [0.5 points]** Given a matrix, implement a function that transforms all elements greater than `a_max` into `a_max`. And all elements that are smaller that `a_min` into `a_min`."
   ]
  },
  {
   "cell_type": "code",
   "execution_count": null,
   "metadata": {},
   "outputs": [],
   "source": [
    "def min_max_crop(arr, a_min, a_max):\n",
    "    assert isinstance(arr, np.ndarray)\n",
    "    # YOUR CODE HERE"
   ]
  },
  {
   "cell_type": "markdown",
   "metadata": {},
   "source": [
    "**Task 10. [0.5 points]** Implement a function that replaces nan elements with the mean of all non-nan elements. In case if all elements are nan the function does nothing."
   ]
  },
  {
   "cell_type": "code",
   "execution_count": null,
   "metadata": {},
   "outputs": [],
   "source": [
    "def replace_nans(arr):\n",
    "    assert isinstance(arr, np.ndarray)\n",
    "    # YOUR CODE HERE"
   ]
  },
  {
   "cell_type": "markdown",
   "metadata": {},
   "source": [
    "**Task 11. [0.5 points]** Implement a function that calculates:\n",
    "\n",
    "- determinant\n",
    "- trace\n",
    "- eigenvalues\n",
    "- Frobenius norm\n",
    "- inverse matrix\n",
    "\n",
    "of a matrix given"
   ]
  },
  {
   "cell_type": "code",
   "execution_count": null,
   "metadata": {},
   "outputs": [],
   "source": [
    "def matrix_stats(arr):\n",
    "    assert isinstance(arr, np.ndarray)\n",
    "    # YOUR CODE HERE"
   ]
  },
  {
   "cell_type": "markdown",
   "metadata": {},
   "source": [
    "**Task 12. [0.5 points]** Implement a function that takes two lists of same length `N`, constructs a `N` by 3 matrix. First two columns are the elements of input lists and  values in the third column are the result of bitwise xor of elements of the same row."
   ]
  },
  {
   "cell_type": "code",
   "execution_count": null,
   "metadata": {},
   "outputs": [],
   "source": [
    "def construct_xor_matrix(list_a, list_b):\n",
    "    assert isinstance(list_a, list)\n",
    "    assert isinstance(list_b, list)\n",
    "    # YOUR CODE HERE"
   ]
  },
  {
   "cell_type": "markdown",
   "metadata": {},
   "source": [
    "# Part 2. Dataset analysis [8 points]\n",
    "\n",
    "\n",
    "In this part we are going to analyze the \"Titanic dataset\".\n",
    "The main goal of this task is to describe the data.\n",
    "\n",
    "Here are some tips:\n",
    "- use plots\n",
    "- notice pecualrities in the data\n",
    "- present verbal explanations, don't be too shy\n",
    "\n",
    "**Important** Please pay attention to your plots: titles, axis-labels and legends are necessary.\n",
    "\n",
    "These  tasks involve `numpy`, `pandas` and `matplotlib` - very common python modules. In one task you may use `scipy`."
   ]
  },
  {
   "cell_type": "markdown",
   "metadata": {},
   "source": [
    "#### Input data\n",
    "This task uses 2 files:\n",
    "- `passengers_record.csv` contains some general information on passengers (name, class, age, etc.)\n",
    "- `survival_info.csv` contains binary labels whether passenger survived or not"
   ]
  },
  {
   "cell_type": "code",
   "execution_count": null,
   "metadata": {},
   "outputs": [],
   "source": [
    "import pandas as pd\n",
    "import matplotlib.pyplot as plt\n",
    "%matplotlib inline"
   ]
  },
  {
   "cell_type": "markdown",
   "metadata": {},
   "source": [
    "**Task 1. [1 point]**\n",
    "\n",
    "Read these files and join them into single dataset (use `passenger_id` as join key). Then provide some description of the dataset: \n",
    "- What are age/gender/class distributions and their averages? How many people belong to each group?\n",
    "- Find the oldest/youngest passangers in every class\n",
    "- Compare survival rates between classes/age groups/genders (configuration of age groups is up to you)"
   ]
  },
  {
   "cell_type": "code",
   "execution_count": null,
   "metadata": {},
   "outputs": [],
   "source": [
    "passengers_record = # YOUR CODE HERE\n",
    "survival_info = # YOUR CODE HERE\n",
    "\n",
    "assert passengers_record.shape == (891, 11) and survival_info.shape == (891, 2), \"Wrong db shapes\""
   ]
  },
  {
   "cell_type": "code",
   "execution_count": null,
   "metadata": {},
   "outputs": [],
   "source": [
    "db = # YOUR CODE HERE"
   ]
  },
  {
   "cell_type": "markdown",
   "metadata": {},
   "source": [
    "**Task 2. [2 points]**\n",
    "\n",
    "Compare average age per class: can we consider these values to be equal? Use visualisation to prove your point. \n",
    "\n",
    "Can we answer this question using the T-test? Why? Here you may use `scipy.stats`."
   ]
  },
  {
   "cell_type": "markdown",
   "metadata": {},
   "source": [
    "**Task 3. [2 points]**\n",
    "\n",
    "Use `plt.subplots` to create side-by-side histograms of distributions:\n",
    "- columns: 3 classes\n",
    "- rows: age, fare, sex, survival rate\n",
    "\n",
    "The output is 4 by 3 table."
   ]
  },
  {
   "cell_type": "markdown",
   "metadata": {},
   "source": [
    "**Task 4. [1 point]**\n",
    "\n",
    "Find 5 most common surnames in passenger list. Try to use `pandas.Series.apply` and lambda-function to extract surnames."
   ]
  },
  {
   "cell_type": "markdown",
   "metadata": {},
   "source": [
    "**Task 5. [2 points]**\n",
    "\n",
    "Probably you already have noticed that there are missing values in the dataset. We will try to fix that.\n",
    "1. Omit all the rows, that contain missing values. Is the result plausible? How does this method effect amount of data and values from Task 1 (age histograms, survival rates, etc.?)\n",
    "2. Suggest some better options to handle missing values in the data and check if it distorts the statistics."
   ]
  },
  {
   "cell_type": "markdown",
   "metadata": {},
   "source": [
    "### Great! Don't forget to submit before the deadline :)"
   ]
  }
 ],
 "metadata": {
  "kernelspec": {
   "display_name": "Python 3",
   "language": "python",
   "name": "python3"
  },
  "language_info": {
   "codemirror_mode": {
    "name": "ipython",
    "version": 3
   },
   "file_extension": ".py",
   "mimetype": "text/x-python",
   "name": "python",
   "nbconvert_exporter": "python",
   "pygments_lexer": "ipython3",
   "version": "3.7.8"
  }
 },
 "nbformat": 4,
 "nbformat_minor": 4
}

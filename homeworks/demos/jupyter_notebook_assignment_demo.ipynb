{
 "cells": [
  {
   "cell_type": "markdown",
   "metadata": {},
   "source": [
    "# This is a demo-notebook how to work on assignments in *Cosmic.Research ML course*.\n",
    "\n",
    "## Notebook structure\n",
    "\n",
    "Jupyter notebook is made of cells, here are two main types of them:\n",
    "- Markdown\n",
    "- Code\n",
    "\n",
    "### A markdown\n",
    "This cell is a **markdown**, it allows to write text, use different *formatting* `styles`, include lists, [links](https://github.com/cosmic-research-ml-edu/cosmic.research.intro.ml/blob/master/homeworks/hw01/lab01.ipynb) and even pictures:\n",
    "\n",
    "![](https://i.pinimg.com/236x/4f/d6/5c/4fd65ca1250fa8fc379399e1b1c6e3e4--galaxy-cat-alien-party.jpg)\n",
    "\n",
    "Mor than that, you can write formulas with $\\LaTeX$: \n",
    "$$\n",
    "\\sum\\limits_{n=1}^{\\infty} = \\infty\n",
    "$$\n",
    "\n",
    "When you see a markdown, you see a pretty piece of text, but to see its original code just use double-click!\n",
    "\n",
    "## Use markdowns to comment your results!\n",
    "### Use markdowns - don't write your thoughs inside your code"
   ]
  },
  {
   "cell_type": "code",
   "execution_count": 1,
   "metadata": {},
   "outputs": [],
   "source": [
    "# This cell is a code block\n",
    "# For example, I will define a function here\n",
    "\n",
    "def reverse_a_word(word):\n",
    "    return word[::-1]"
   ]
  },
  {
   "cell_type": "code",
   "execution_count": 2,
   "metadata": {},
   "outputs": [],
   "source": [
    "# Create a variable here\n",
    "\n",
    "my_word = \"palindrome\""
   ]
  },
  {
   "cell_type": "code",
   "execution_count": 3,
   "metadata": {},
   "outputs": [
    {
     "name": "stdout",
     "output_type": "stream",
     "text": [
      "palindrome - emordnilap\n"
     ]
    }
   ],
   "source": [
    "# And run a function here (use Tab to insert names of variables faster):\n",
    "\n",
    "print(\"{} - {}\".format(my_word, reverse_a_word(my_word)))"
   ]
  },
  {
   "cell_type": "markdown",
   "metadata": {},
   "source": [
    "## Tasks demo\n",
    "\n",
    "-  **Important!** You don't have to create your own notebook, just *fill the gaps* in the original one.\n",
    "-  **More than important!** Don't delete any cells you didn't create\n",
    "\n",
    "In this notebooks I will write markdowns with comments with two types of formatting:\n",
    "- **bold** is for my technical comments\n",
    "- regular is used for something you might have written while doing these tasks"
   ]
  },
  {
   "cell_type": "markdown",
   "metadata": {},
   "source": [
    "**Task 01 [100500 points]** Implement a fuction that reshapes a 2D-array to make it square as possible: \n",
    "\n",
    "it takes $(n \\times m)$ matrix and reshapes it to $(a \\times b)$ so that:\n",
    "- $a < b$ \n",
    "- $a \\times b = n \\times m$\n",
    "- $|a - b| \\to min$"
   ]
  },
  {
   "cell_type": "code",
   "execution_count": 4,
   "metadata": {},
   "outputs": [],
   "source": [
    "import numpy as np"
   ]
  },
  {
   "cell_type": "code",
   "execution_count": 5,
   "metadata": {},
   "outputs": [],
   "source": [
    "def make_matrix_square(arr):\n",
    "    '''Your code here'''"
   ]
  },
  {
   "cell_type": "markdown",
   "metadata": {},
   "source": [
    "**All you have to do is to write your code inside a function (don't even copy the original cell).\n",
    "After you are done the cell may look like this**"
   ]
  },
  {
   "cell_type": "code",
   "execution_count": 6,
   "metadata": {},
   "outputs": [
    {
     "name": "stdout",
     "output_type": "stream",
     "text": [
      "Test case  0\n",
      "[[1 4]\n",
      " [6 2]\n",
      " [2 6]\n",
      " [4 3]\n",
      " [3 3]\n",
      " [2 9]\n",
      " [4 9]\n",
      " [9 6]]\n",
      "(8, 2) -> (4, 4)\n",
      "[[1 4 6 2]\n",
      " [2 6 4 3]\n",
      " [3 3 2 9]\n",
      " [4 9 9 6]]\n",
      "-----\n",
      "Test case  1\n",
      "[[ 0  1  2]\n",
      " [ 3  4  5]\n",
      " [ 6  7  8]\n",
      " [ 9 10 11]\n",
      " [12 13 14]\n",
      " [15 16 17]\n",
      " [18 19 20]\n",
      " [21 22 23]]\n",
      "(8, 3) -> (4, 6)\n",
      "[[ 0  1  2  3  4  5]\n",
      " [ 6  7  8  9 10 11]\n",
      " [12 13 14 15 16 17]\n",
      " [18 19 20 21 22 23]]\n",
      "-----\n",
      "Test case  2\n",
      "[[0.]]\n",
      "(1, 1) -> (1, 1)\n",
      "[[0.]]\n",
      "-----\n",
      "Test case  3\n",
      "[[1. 1.]\n",
      " [1. 1.]\n",
      " [1. 1.]]\n",
      "(3, 2) -> (2, 3)\n",
      "[[1. 1. 1.]\n",
      " [1. 1. 1.]]\n",
      "-----\n"
     ]
    }
   ],
   "source": [
    "def make_matrix_square(arr):\n",
    "    elements_count = arr.shape[0] * arr.shape[1]\n",
    "    sqrt = int(np.sqrt(elements_count))\n",
    "    height = 1\n",
    "    for i in range(1, sqrt + 1, 1):\n",
    "        if elements_count % i == 0:\n",
    "            height = i\n",
    "    res = arr.reshape((height, -1))\n",
    "    return res\n",
    "\n",
    "test_cases = [np.random.randint(10, size=(8, 2)), np.arange(8 * 3).reshape(8, 3), np.zeros((1, 1)), np.ones((3, 2))]\n",
    "\n",
    "for i, arr in enumerate(test_cases):\n",
    "    sq_arr = make_matrix_square(arr)\n",
    "    print(\"Test case \", i)\n",
    "    print(arr),\n",
    "    print(\"{} -> {}\".format(arr.shape, sq_arr.shape))\n",
    "    print(sq_arr)\n",
    "    print(\"-----\")"
   ]
  },
  {
   "cell_type": "markdown",
   "metadata": {},
   "source": [
    "**Don't clear the outputs after you finish your work. You don't have to comment anything - it's just your code and cell output**\n",
    "\n",
    "**(yes, you have to run the cell)**"
   ]
  },
  {
   "cell_type": "markdown",
   "metadata": {},
   "source": [
    "**Task 2 [42 points]** Import the Iris dataset and examine if the classes a balanced."
   ]
  },
  {
   "cell_type": "code",
   "execution_count": 7,
   "metadata": {},
   "outputs": [],
   "source": [
    "import pandas as pd\n",
    "from sklearn.datasets import load_iris"
   ]
  },
  {
   "cell_type": "markdown",
   "metadata": {},
   "source": [
    "**You start here: you import the data and create a dataset**"
   ]
  },
  {
   "cell_type": "code",
   "execution_count": 8,
   "metadata": {},
   "outputs": [],
   "source": [
    "irises = load_iris()\n",
    "feature_names = irises[\"feature_names\"]\n",
    "X, y = irises[\"data\"], irises[\"target\"]"
   ]
  },
  {
   "cell_type": "code",
   "execution_count": 9,
   "metadata": {},
   "outputs": [],
   "source": [
    "df = pd.DataFrame(data=X, columns=feature_names)\n",
    "df[\"class\"] = y"
   ]
  },
  {
   "cell_type": "code",
   "execution_count": 10,
   "metadata": {},
   "outputs": [
    {
     "data": {
      "text/html": [
       "<div>\n",
       "<style scoped>\n",
       "    .dataframe tbody tr th:only-of-type {\n",
       "        vertical-align: middle;\n",
       "    }\n",
       "\n",
       "    .dataframe tbody tr th {\n",
       "        vertical-align: top;\n",
       "    }\n",
       "\n",
       "    .dataframe thead th {\n",
       "        text-align: right;\n",
       "    }\n",
       "</style>\n",
       "<table border=\"1\" class=\"dataframe\">\n",
       "  <thead>\n",
       "    <tr style=\"text-align: right;\">\n",
       "      <th></th>\n",
       "      <th>sepal length (cm)</th>\n",
       "      <th>sepal width (cm)</th>\n",
       "      <th>petal length (cm)</th>\n",
       "      <th>petal width (cm)</th>\n",
       "      <th>class</th>\n",
       "    </tr>\n",
       "  </thead>\n",
       "  <tbody>\n",
       "    <tr>\n",
       "      <th>0</th>\n",
       "      <td>5.1</td>\n",
       "      <td>3.5</td>\n",
       "      <td>1.4</td>\n",
       "      <td>0.2</td>\n",
       "      <td>0</td>\n",
       "    </tr>\n",
       "    <tr>\n",
       "      <th>1</th>\n",
       "      <td>4.9</td>\n",
       "      <td>3.0</td>\n",
       "      <td>1.4</td>\n",
       "      <td>0.2</td>\n",
       "      <td>0</td>\n",
       "    </tr>\n",
       "    <tr>\n",
       "      <th>2</th>\n",
       "      <td>4.7</td>\n",
       "      <td>3.2</td>\n",
       "      <td>1.3</td>\n",
       "      <td>0.2</td>\n",
       "      <td>0</td>\n",
       "    </tr>\n",
       "  </tbody>\n",
       "</table>\n",
       "</div>"
      ],
      "text/plain": [
       "   sepal length (cm)  sepal width (cm)  petal length (cm)  petal width (cm)  \\\n",
       "0                5.1               3.5                1.4               0.2   \n",
       "1                4.9               3.0                1.4               0.2   \n",
       "2                4.7               3.2                1.3               0.2   \n",
       "\n",
       "   class  \n",
       "0      0  \n",
       "1      0  \n",
       "2      0  "
      ]
     },
     "execution_count": 10,
     "metadata": {},
     "output_type": "execute_result"
    }
   ],
   "source": [
    "df.head(3)"
   ]
  },
  {
   "cell_type": "markdown",
   "metadata": {},
   "source": [
    "**Here you have finished data preparation and you run:**"
   ]
  },
  {
   "cell_type": "code",
   "execution_count": 11,
   "metadata": {},
   "outputs": [
    {
     "data": {
      "text/plain": [
       "2    50\n",
       "1    50\n",
       "0    50\n",
       "Name: class, dtype: int64"
      ]
     },
     "execution_count": 11,
     "metadata": {},
     "output_type": "execute_result"
    }
   ],
   "source": [
    "df[\"class\"].value_counts()"
   ]
  },
  {
   "cell_type": "markdown",
   "metadata": {},
   "source": [
    "**Here you comment your result:**\n",
    "\n",
    "As we can see, each class has 50 objects, hence classes are balanced."
   ]
  },
  {
   "cell_type": "markdown",
   "metadata": {},
   "source": [
    "**But somehow you are not satisfied and you decide to create a barplot:**\n",
    "\n",
    "Let's plot distribution of objects between the classes"
   ]
  },
  {
   "cell_type": "code",
   "execution_count": 12,
   "metadata": {},
   "outputs": [],
   "source": [
    "import matplotlib.pyplot as plt\n",
    "from collections import Counter"
   ]
  },
  {
   "cell_type": "code",
   "execution_count": 13,
   "metadata": {},
   "outputs": [
    {
     "data": {
      "text/plain": [
       "Counter({0: 50, 1: 50, 2: 50})"
      ]
     },
     "execution_count": 13,
     "metadata": {},
     "output_type": "execute_result"
    }
   ],
   "source": [
    "class_counter = Counter(y)\n",
    "class_counter"
   ]
  },
  {
   "cell_type": "code",
   "execution_count": 14,
   "metadata": {},
   "outputs": [],
   "source": [
    "labels = sorted(class_counter.keys())\n",
    "values = [class_counter[label] for label in labels]"
   ]
  },
  {
   "cell_type": "code",
   "execution_count": 15,
   "metadata": {},
   "outputs": [
    {
     "data": {
      "image/png": "[encoded data removed]",
      "text/plain": [
       "<Figure size 576x288 with 1 Axes>"
      ]
     },
     "metadata": {
      "needs_background": "light"
     },
     "output_type": "display_data"
    }
   ],
   "source": [
    "plt.figure(figsize=(8, 4)) # Create a figure\n",
    "\n",
    "plt.barh(labels, values, color=[\"red\", \"green\", \"blue\"]) # Draw a barplot\n",
    "\n",
    "plt.yticks(np.arange(len(labels)), [\"Class: \" + str(label) for label in labels]) # Put custom labels on y-axis\n",
    "\n",
    "# Add numbers on a plot (optionally)\n",
    "for l, v in zip(labels, values):\n",
    "    plt.text(v + 0.1, l + 0.1, str(v))\n",
    "\n",
    "plt.title(\"Objects per class\") # Title is a must-have\n",
    "plt.xlabel(\"n_objects\") # Axis-label is a must-have\n",
    "# plt.ylabel(\"\") we don't need it here beacuse y-ticks explain everything\n",
    "plt.xlim(0, 75)\n",
    "plt.grid()\n",
    "plt.show()"
   ]
  },
  {
   "cell_type": "markdown",
   "metadata": {},
   "source": [
    "**In this task plot is an optional feature, because 3 simple numbers for 3 classes are quite easy to comprehend, but there might be other cases with not so obvious class ratios where you should consider plotting**"
   ]
  },
  {
   "cell_type": "markdown",
   "metadata": {},
   "source": [
    "**Task 3 [0.4 points]** Train a Random Forest Classifier and examine how number of trees changes classification quality. Use several metrics for classification (something apart from accuracy)."
   ]
  },
  {
   "cell_type": "markdown",
   "metadata": {},
   "source": [
    "**And you go:** \n",
    "\n",
    "Okay let's import the model and some classification metrics:"
   ]
  },
  {
   "cell_type": "code",
   "execution_count": 16,
   "metadata": {},
   "outputs": [],
   "source": [
    "from sklearn.ensemble import RandomForestClassifier\n",
    "from sklearn.metrics import accuracy_score, precision_score, recall_score, f1_score"
   ]
  },
  {
   "cell_type": "markdown",
   "metadata": {},
   "source": [
    "**Then you comment:**\n",
    "\n",
    "We will have to split the data to have a left-out set for quality assessment"
   ]
  },
  {
   "cell_type": "code",
   "execution_count": 17,
   "metadata": {},
   "outputs": [],
   "source": [
    "from sklearn.model_selection import train_test_split"
   ]
  },
  {
   "cell_type": "code",
   "execution_count": 18,
   "metadata": {},
   "outputs": [],
   "source": [
    "X_train, X_test, y_train, y_test = train_test_split(X, y, test_size=0.4, stratify=y)"
   ]
  },
  {
   "cell_type": "code",
   "execution_count": 19,
   "metadata": {},
   "outputs": [
    {
     "name": "stdout",
     "output_type": "stream",
     "text": [
      "(90, 4)\n",
      "(60, 4)\n",
      "(90,)\n",
      "(60,)\n"
     ]
    }
   ],
   "source": [
    "for arr in (X_train, X_test, y_train, y_test):\n",
    "    print(arr.shape)"
   ]
  },
  {
   "cell_type": "markdown",
   "metadata": {},
   "source": [
    "Now we adjust metrics for multi-class classification:"
   ]
  },
  {
   "cell_type": "code",
   "execution_count": 20,
   "metadata": {},
   "outputs": [],
   "source": [
    "def micro_precision(y_true, y_pred):\n",
    "    return precision_score(y_true, y_pred, average=\"micro\", zero_division=False)\n",
    "\n",
    "def macro_precision(y_true, y_pred):\n",
    "    return precision_score(y_true, y_pred, average=\"macro\", zero_division=False)\n",
    "\n",
    "def micro_recall(y_true, y_pred):\n",
    "    return recall_score(y_true, y_pred, average=\"micro\", zero_division=False)\n",
    "\n",
    "def macro_recall(y_true, y_pred):\n",
    "    return recall_score(y_true, y_pred, average=\"macro\", zero_division=False)\n",
    "\n",
    "def micro_f1(y_true, y_pred):\n",
    "    return f1_score(y_true, y_pred, average=\"micro\", zero_division=False)\n",
    "\n",
    "def macro_f1(y_true, y_pred):\n",
    "    return f1_score(y_true, y_pred, average=\"macro\", zero_division=False)"
   ]
  },
  {
   "cell_type": "markdown",
   "metadata": {},
   "source": [
    "Run the loop:"
   ]
  },
  {
   "cell_type": "code",
   "execution_count": 21,
   "metadata": {},
   "outputs": [],
   "source": [
    "n_trees = np.arange(1, 10)\n",
    "metrics = [\n",
    "    accuracy_score, \n",
    "    micro_precision, macro_precision,\n",
    "    micro_recall, macro_recall,\n",
    "    micro_f1, macro_f1\n",
    "]\n",
    "scores = []\n",
    "\n",
    "for n in n_trees:\n",
    "    rf = RandomForestClassifier(n_estimators=n)\n",
    "    rf.fit(X_train, y_train)\n",
    "    y_pred = rf.predict(X_test)\n",
    "    cur_scores = [metric(y_test, y_pred) for metric in metrics]\n",
    "    scores.append(cur_scores)"
   ]
  },
  {
   "cell_type": "markdown",
   "metadata": {},
   "source": [
    "Now let's plot the results:"
   ]
  },
  {
   "cell_type": "code",
   "execution_count": 22,
   "metadata": {
    "scrolled": true
   },
   "outputs": [
    {
     "name": "stdout",
     "output_type": "stream",
     "text": [
      "(9,) (9, 7)\n"
     ]
    }
   ],
   "source": [
    "xs = n_trees\n",
    "ys = np.array(scores)\n",
    "print(xs.shape, ys.shape)"
   ]
  },
  {
   "cell_type": "code",
   "execution_count": 23,
   "metadata": {},
   "outputs": [
    {
     "data": {
      "image/png": "[encoded data removed]",
      "text/plain": [
       "<Figure size 720x432 with 1 Axes>"
      ]
     },
     "metadata": {
      "needs_background": "light"
     },
     "output_type": "display_data"
    }
   ],
   "source": [
    "metric_names = [\n",
    "    \"accuracy_score\", \n",
    "    \"micro_precision\", \"macro_precision\",\n",
    "    \"micro_recall\", \"macro_recall\",\n",
    "    \"micro_f1\", \"macro_f1\"   \n",
    "]\n",
    "\n",
    "plt.figure(figsize=(10, 6))\n",
    "\n",
    "for i, name in enumerate(metric_names):\n",
    "    plt.plot(xs, ys[:, i], label=name)\n",
    "\n",
    "plt.title(\"RF claffisication scores w.r.t. n_estimators\")\n",
    "plt.xlabel(\"n_estimators\")\n",
    "plt.ylabel(\"Score\")\n",
    "plt.legend(loc=\"lower right\")\n",
    "plt.grid()\n",
    "plt.show()"
   ]
  },
  {
   "cell_type": "markdown",
   "metadata": {},
   "source": [
    "**And then you sum up**\n",
    "\n",
    "Going by the plot the optimal `n_estimators` around 3 and as number of trees grows, the quality of classification fluctuates but stays lower than quality of a single tree.\n",
    "\n",
    "I think, it has something to do with a small size of a data set and high complexity of a model with big amount of trees."
   ]
  }
 ],
 "metadata": {
  "kernelspec": {
   "display_name": "Python 3",
   "language": "python",
   "name": "python3"
  },
  "language_info": {
   "codemirror_mode": {
    "name": "ipython",
    "version": 3
   },
   "file_extension": ".py",
   "mimetype": "text/x-python",
   "name": "python",
   "nbconvert_exporter": "python",
   "pygments_lexer": "ipython3",
   "version": "3.7.8"
  }
 },
 "nbformat": 4,
 "nbformat_minor": 4
}
